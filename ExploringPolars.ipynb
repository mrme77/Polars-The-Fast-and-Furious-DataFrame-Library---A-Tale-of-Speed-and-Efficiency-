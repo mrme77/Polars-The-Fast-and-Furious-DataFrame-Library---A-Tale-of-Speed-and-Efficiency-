{
 "cells": [
  {
   "cell_type": "markdown",
   "id": "c70fa438-6084-45ea-8775-bbc2b56a4672",
   "metadata": {},
   "source": [
    "\n",
    "# Ingesting syntethic data into a Polars dataframe\n",
    "### <i>In Polars, we can ingest data using two primary approaches: using the read_csv function and the scan_csv function. Each approach has distinct characteristics and use cases.</i>\n",
    "---------------------------"
   ]
  },
  {
   "cell_type": "markdown",
   "id": "bceaf9aa-1bf4-40a0-858e-9adc37e4075d",
   "metadata": {
    "jp-MarkdownHeadingCollapsed": true
   },
   "source": [
    "\n",
    "\n",
    "#### The read_csv function in Polars reads the entire CSV file into memory immediately, creating an eager DataFrame. This is similar to how Pandas handles data ingestion.\n",
    "\n",
    "#### Characteristics:\n",
    "\n",
    "- Eager Execution: The data is loaded and processed immediately.\n",
    "- In-Memory DataFrame: The entire dataset is loaded into memory, making it suitable for smaller datasets that fit into the available RAM.\n",
    "- Immediate Feedback: You can quickly inspect and manipulate the DataFrame right after loading.\n",
    "\n",
    "#### The scan_csv function in Polars reads the CSV file in a lazy manner, creating a LazyFrame. This defers the actual reading and computation until an explicit action (like collect) is called.\n",
    "\n",
    "#### Characteristics:\n",
    "\n",
    "- Lazy Execution: The data loading and processing are deferred until explicitly requested.\n",
    "- Optimized Query Planning: Polars optimizes the entire query plan before execution, which can result in performance improvements.\n",
    "- Efficient Memory Usage: Suitable for larger datasets as it allows Polars to plan and optimize the data processing pipeline without loading the entire dataset into memory upfront.\n",
    "- Composability: You can chain multiple transformations and only execute them once you call collect()."
   ]
  },
  {
   "cell_type": "markdown",
   "id": "0a47ee14-d064-404b-b0c0-d5fe412f21f9",
   "metadata": {},
   "source": [
    "## Importing required modules"
   ]
  },
  {
   "cell_type": "code",
   "execution_count": 1,
   "id": "7cd22344-29d5-4b86-9cb9-50eed7a549ed",
   "metadata": {},
   "outputs": [],
   "source": [
    "import pandas as pd\n",
    "import polars as pl\n",
    "import time \n",
    "import matplotlib.pyplot as plt\n",
    "import seaborn as sns\n",
    "import numpy as np\n",
    "from sklearn.preprocessing import MinMaxScaler\n"
   ]
  },
  {
   "cell_type": "markdown",
   "id": "fd93f327-db29-4ad9-a941-80b473d72325",
   "metadata": {},
   "source": [
    "## Scaling up an existing CSV dataset (syntethic_flight_data.csv) to a larger size (new_data.csv) by replicating its contents. "
   ]
  },
  {
   "cell_type": "code",
   "execution_count": 2,
   "id": "0a1a297b-9968-47e5-b734-700518631c84",
   "metadata": {},
   "outputs": [
    {
     "name": "stdout",
     "output_type": "stream",
     "text": [
      "Original number of rows: 1032\n",
      "Replicated number of rows: 20000000\n",
      "New CSV file with 20000000 rows created at: new_data.csv\n"
     ]
    }
   ],
   "source": [
    "csv_file = \"syntethic_flight_data.csv\"\n",
    "df = pd.read_csv(csv_file)\n",
    "\n",
    "# Get the number of rows in the original file\n",
    "original_row_count = df.shape[0]\n",
    "target_row_count = 20000000\n",
    "\n",
    "# Calculate how many times we need to replicate the data\n",
    "replications = target_row_count // original_row_count\n",
    "remainder = target_row_count % original_row_count\n",
    "\n",
    "# Replicate the data\n",
    "df_replicated = pd.concat([df] * replications + [df.iloc[:remainder]], ignore_index=True)\n",
    "\n",
    "# Verify the new size of the DataFrame\n",
    "print(f\"Original number of rows: {original_row_count}\")\n",
    "print(f\"Replicated number of rows: {df_replicated.shape[0]}\")\n",
    "\n",
    "# Write the new DataFrame to a new CSV file\n",
    "new_csv_file = \"new_data.csv\"\n",
    "df_replicated.to_csv(new_csv_file, index=False)\n",
    "\n",
    "print(f\"New CSV file with {target_row_count} rows created at: {new_csv_file}\")\n"
   ]
  },
  {
   "cell_type": "markdown",
   "id": "5cf924a2-1c18-4c87-ba94-fb65715a8e39",
   "metadata": {},
   "source": [
    "## The following script illustrates the different approaches to handling data filtering in Polars, emphasizing the trade-offs between eager and lazy evaluation in data processing.\n",
    "\n",
    "\n",
    "\n",
    "\n",
    "\n",
    "\n",
    "\n"
   ]
  },
  {
   "cell_type": "code",
   "execution_count": 3,
   "id": "02d0665d-6ea3-41b8-a394-447d8adeaab5",
   "metadata": {},
   "outputs": [
    {
     "name": "stdout",
     "output_type": "stream",
     "text": [
      "Time taken to filter using read_csv: 6.748241901397705 seconds\n",
      "Time taken to filter using scan_csv: 2.5091989040374756 seconds\n"
     ]
    }
   ],
   "source": [
    "\n",
    "file_path = 'new_data.csv'\n",
    "\n",
    "# Filter\n",
    "filter_date = \"2023-10-26\"\n",
    "\n",
    "# Function to time the filtering using read_csv\n",
    "def filter_using_read_csv(file_path, filter_date):\n",
    "    start_time = time.time()\n",
    "    # eager dataframe\n",
    "    df = pl.read_csv(file_path)\n",
    "    # Filter the DataFrame\n",
    "    filtered_df = df.filter(pl.col('date') == filter_date)\n",
    "    end_time = time.time()\n",
    "    elapsed_time = end_time - start_time\n",
    "    \n",
    "    return filtered_df, elapsed_time\n",
    "\n",
    "# Function to time the filtering using scan_csv\n",
    "def filter_using_scan_csv(file_path, filter_date):\n",
    "    start_time = time.time()\n",
    "    # LazyFrame\n",
    "    lf = pl.scan_csv(file_path)\n",
    "    # Filter the LazyFrame\n",
    "    filtered_lf = lf.filter(pl.col('date') == filter_date)\n",
    "    # Collect the results into an eager DataFrame\n",
    "    filtered_df = filtered_lf.collect()\n",
    "    end_time = time.time()\n",
    "    elapsed_time = end_time - start_time\n",
    "    \n",
    "    return filtered_df, elapsed_time\n",
    "\n",
    "# Perform filtering and timing with read_csv\n",
    "filtered_df_read_csv, read_csv_time = filter_using_read_csv(file_path, filter_date)\n",
    "print(f\"Time taken to filter using read_csv: {read_csv_time} seconds\")\n",
    "\n",
    "\n",
    "# Perform filtering and timing with scan_csv\n",
    "filtered_df_scan_csv, scan_csv_time = filter_using_scan_csv(file_path, filter_date)\n",
    "print(f\"Time taken to filter using scan_csv: {scan_csv_time} seconds\")\n",
    "\n"
   ]
  },
  {
   "cell_type": "markdown",
   "id": "a8cbbb3f-8937-4315-a027-927d244f53ef",
   "metadata": {},
   "source": [
    "### The results confirm the advantage of using scan_csv over read_csv for filtering in Polars, especially when dealing with larger datasets."
   ]
  },
  {
   "cell_type": "markdown",
   "id": "d261043d-96b9-42a4-96ff-07c1fd2643f3",
   "metadata": {},
   "source": [
    "### But what about Polars vs Pandas? Aren't they just another type of bear?\n"
   ]
  },
  {
   "cell_type": "code",
   "execution_count": 4,
   "id": "d5e3f635-7e23-4017-bc0d-2c6d43c2b936",
   "metadata": {},
   "outputs": [
    {
     "name": "stdout",
     "output_type": "stream",
     "text": [
      "Time taken to load CSV using Pandas: 21.560599088668823 seconds\n",
      "Time taken to load CSV using Polars read_csv: 2.5893020629882812 seconds\n",
      "Time taken to load CSV using Polars scan_csv (lazy mode): 8.681693077087402 seconds\n"
     ]
    }
   ],
   "source": [
    "csv_file_path = 'new_data.csv'\n",
    "\n",
    "# Timing the loading of the CSV file into a Pandas DataFrame\n",
    "start_time = time.time()\n",
    "df_pandas = pd.read_csv(csv_file_path)\n",
    "pandas_duration = time.time() - start_time\n",
    "\n",
    "print(f\"Time taken to load CSV using Pandas: {pandas_duration} seconds\")\n",
    "\n",
    "# Timing the loading of the CSV file into a Polars DataFrame using read_csv\n",
    "start_time = time.time()\n",
    "df_polars = pl.read_csv(csv_file_path)\n",
    "polars_read_duration = time.time() - start_time\n",
    "\n",
    "print(f\"Time taken to load CSV using Polars read_csv: {polars_read_duration} seconds\")\n",
    "\n",
    "# Timing the loading of the CSV file into a Polars DataFrame using scan_csv (lazy mode)\n",
    "start_time = time.time()\n",
    "df_polars_lazy = pl.scan_csv(csv_file_path).collect()\n",
    "polars_scan_duration = time.time() - start_time\n",
    "\n",
    "print(f\"Time taken to load CSV using Polars scan_csv (lazy mode): {polars_scan_duration} seconds\")\n"
   ]
  },
  {
   "cell_type": "markdown",
   "id": "f9b348ea-471d-4a6b-b0d8-37c20fac591c",
   "metadata": {},
   "source": [
    "#### The timings observed indicate that Polars' read_csv (eager mode) and scan_csv (lazy mode) are significantly faster tha pandas.This primarily stemms from its architecture and implementation choices:\n",
    "\n",
    "1. Native Rust Implementation\n",
    "Performance-Oriented Language: Polars is primarily implemented in Rust, a language known for its performance and memory safety. This allows Polars to leverage Rust's efficient memory management and low-level optimizations, resulting in faster execution compared to Python.\n",
    "2. Lazy Evaluation\n",
    "Efficient Query Planning: Polars employs lazy evaluation for data operations. This means that when you perform operations on a Polars DataFrame (e.g., filtering, aggregating), it builds a computation plan first without immediately executing it. This allows Polars to optimize the entire operation plan before executing, which can lead to more efficient query execution compared to Pandas.\n",
    "3. SIMD Vectorization\n",
    "SIMD (Single Instruction, Multiple Data): Polars uses SIMD vectorization techniques extensively. SIMD allows processors to perform the same operation on multiple data points simultaneously, leading to significant speedups for operations like arithmetic computations and aggregations.\n",
    "4. Data Structure Optimization\n",
    "Arrow Format: Polars uses Apache Arrow format for storing data internally. Arrow is designed for efficient data interchange between systems and languages. It stores data in a columnar format, which improves memory locality and cache efficiency, especially for analytics and data processing tasks.\n",
    "5. Parallelization\n",
    "Multi-Threading: Polars supports multi-threading for certain operations, allowing it to take advantage of modern multi-core processors. This parallelization can significantly speed up data processing tasks by distributing work across multiple threads.\n",
    "6. Memory Efficiency\n",
    "Reduced Overhead: Polars aims for reduced memory overhead compared to Pandas. Its memory management strategies and data structures are optimized for efficient memory usage, which can lead to faster execution times, especially for large datasets that exceed available RAM.\n",
    "7. Targeted Use Cases\n",
    "Data Engineering and Analysis: Polars is specifically designed for data engineering and analysis tasks, where speed and scalability are critical. It prioritizes performance optimizations that cater to these use cases, making it a suitable choice for handling large-scale datasets efficiently.\n",
    "\n",
    "\n"
   ]
  },
  {
   "cell_type": "markdown",
   "id": "3f61a084-21f8-4adc-964c-ab3a2e63a760",
   "metadata": {},
   "source": [
    "## Exploratory Data Analysis (EDA)"
   ]
  },
  {
   "cell_type": "code",
   "execution_count": 5,
   "id": "72c8e33f-417f-4d0f-8c23-f0caf90e9963",
   "metadata": {},
   "outputs": [],
   "source": [
    "df = pl.read_csv('new_data.csv')"
   ]
  },
  {
   "cell_type": "markdown",
   "id": "0e451af0-352d-417c-8a76-1564330e1778",
   "metadata": {},
   "source": [
    "#### The head function shows by default the first 5 rows of a DataFrame. We can specify the number of rows we want to see (e.g. df.head(10))."
   ]
  },
  {
   "cell_type": "code",
   "execution_count": 6,
   "id": "05b4d1f8-2f1a-4d13-899a-109b0c01ccf8",
   "metadata": {},
   "outputs": [
    {
     "data": {
      "text/html": [
       "<div><style>\n",
       ".dataframe > thead > tr,\n",
       ".dataframe > tbody > tr {\n",
       "  text-align: right;\n",
       "  white-space: pre-wrap;\n",
       "}\n",
       "</style>\n",
       "<small>shape: (5, 9)</small><table border=\"1\" class=\"dataframe\"><thead><tr><th>aircraft_icao_id</th><th>date</th><th>timestamp</th><th>altitude</th><th>latitude</th><th>longitude</th><th>speed</th><th>heading</th><th>Distance_From_Receiver</th></tr><tr><td>str</td><td>str</td><td>str</td><td>i64</td><td>f64</td><td>f64</td><td>i64</td><td>i64</td><td>f64</td></tr></thead><tbody><tr><td>&quot;6c7c86ede5f20a4c5cd97a56f79dd3…</td><td>&quot;2023-10-26&quot;</td><td>&quot;21:04:33.231000&quot;</td><td>35000</td><td>38.61955</td><td>-90.12807</td><td>510</td><td>131</td><td>19.271622</td></tr><tr><td>&quot;56a7584bd0fd2151076be804881330…</td><td>&quot;2023-10-21&quot;</td><td>&quot;21:02:42.143000&quot;</td><td>40000</td><td>38.84384</td><td>-90.11713</td><td>487</td><td>202</td><td>36.495388</td></tr><tr><td>&quot;7920794164eb77440b937e73484836…</td><td>&quot;2023-10-22&quot;</td><td>&quot;02:21:15.327000&quot;</td><td>37975</td><td>38.55801</td><td>-89.70074</td><td>415</td><td>206</td><td>19.393315</td></tr><tr><td>&quot;5d9bd15d50428b6445669dbd2b3fe6…</td><td>&quot;2023-10-21&quot;</td><td>&quot;20:58:38.905000&quot;</td><td>37950</td><td>38.66107</td><td>-90.23029</td><td>432</td><td>214</td><td>29.25538</td></tr><tr><td>&quot;9825b10d1446628b83d4a4c415c24d…</td><td>&quot;2023-10-22&quot;</td><td>&quot;14:04:58.095000&quot;</td><td>36025</td><td>38.72662</td><td>-89.9468</td><td>435</td><td>210</td><td>19.473439</td></tr></tbody></table></div>"
      ],
      "text/plain": [
       "shape: (5, 9)\n",
       "┌─────────────┬────────────┬─────────────┬──────────┬───┬───────────┬───────┬─────────┬────────────┐\n",
       "│ aircraft_ic ┆ date       ┆ timestamp   ┆ altitude ┆ … ┆ longitude ┆ speed ┆ heading ┆ Distance_F │\n",
       "│ ao_id       ┆ ---        ┆ ---         ┆ ---      ┆   ┆ ---       ┆ ---   ┆ ---     ┆ rom_Receiv │\n",
       "│ ---         ┆ str        ┆ str         ┆ i64      ┆   ┆ f64       ┆ i64   ┆ i64     ┆ er         │\n",
       "│ str         ┆            ┆             ┆          ┆   ┆           ┆       ┆         ┆ ---        │\n",
       "│             ┆            ┆             ┆          ┆   ┆           ┆       ┆         ┆ f64        │\n",
       "╞═════════════╪════════════╪═════════════╪══════════╪═══╪═══════════╪═══════╪═════════╪════════════╡\n",
       "│ 6c7c86ede5f ┆ 2023-10-26 ┆ 21:04:33.23 ┆ 35000    ┆ … ┆ -90.12807 ┆ 510   ┆ 131     ┆ 19.271622  │\n",
       "│ 20a4c5cd97a ┆            ┆ 1000        ┆          ┆   ┆           ┆       ┆         ┆            │\n",
       "│ 56f79dd3…   ┆            ┆             ┆          ┆   ┆           ┆       ┆         ┆            │\n",
       "│ 56a7584bd0f ┆ 2023-10-21 ┆ 21:02:42.14 ┆ 40000    ┆ … ┆ -90.11713 ┆ 487   ┆ 202     ┆ 36.495388  │\n",
       "│ d2151076be8 ┆            ┆ 3000        ┆          ┆   ┆           ┆       ┆         ┆            │\n",
       "│ 04881330…   ┆            ┆             ┆          ┆   ┆           ┆       ┆         ┆            │\n",
       "│ 7920794164e ┆ 2023-10-22 ┆ 02:21:15.32 ┆ 37975    ┆ … ┆ -89.70074 ┆ 415   ┆ 206     ┆ 19.393315  │\n",
       "│ b77440b937e ┆            ┆ 7000        ┆          ┆   ┆           ┆       ┆         ┆            │\n",
       "│ 73484836…   ┆            ┆             ┆          ┆   ┆           ┆       ┆         ┆            │\n",
       "│ 5d9bd15d504 ┆ 2023-10-21 ┆ 20:58:38.90 ┆ 37950    ┆ … ┆ -90.23029 ┆ 432   ┆ 214     ┆ 29.25538   │\n",
       "│ 28b6445669d ┆            ┆ 5000        ┆          ┆   ┆           ┆       ┆         ┆            │\n",
       "│ bd2b3fe6…   ┆            ┆             ┆          ┆   ┆           ┆       ┆         ┆            │\n",
       "│ 9825b10d144 ┆ 2023-10-22 ┆ 14:04:58.09 ┆ 36025    ┆ … ┆ -89.9468  ┆ 435   ┆ 210     ┆ 19.473439  │\n",
       "│ 6628b83d4a4 ┆            ┆ 5000        ┆          ┆   ┆           ┆       ┆         ┆            │\n",
       "│ c415c24d…   ┆            ┆             ┆          ┆   ┆           ┆       ┆         ┆            │\n",
       "└─────────────┴────────────┴─────────────┴──────────┴───┴───────────┴───────┴─────────┴────────────┘"
      ]
     },
     "execution_count": 6,
     "metadata": {},
     "output_type": "execute_result"
    }
   ],
   "source": [
    "df.head()"
   ]
  },
  {
   "cell_type": "markdown",
   "id": "da4b6dc9-d8e8-4181-8b71-ab6bb18d6009",
   "metadata": {},
   "source": [
    "#### To inspect the data types of the columns in a DataFrame, we can use the dtypes attribute. This provides a list of data types corresponding to each column in the DataFrame."
   ]
  },
  {
   "cell_type": "code",
   "execution_count": 7,
   "id": "2a8fc782-7bb3-46d2-b51f-f64478adfc7c",
   "metadata": {},
   "outputs": [
    {
     "data": {
      "text/plain": [
       "[String, String, String, Int64, Float64, Float64, Int64, Int64, Float64]"
      ]
     },
     "execution_count": 7,
     "metadata": {},
     "output_type": "execute_result"
    }
   ],
   "source": [
    "df.dtypes\n"
   ]
  },
  {
   "cell_type": "markdown",
   "id": "99e197b5-ec08-40b4-b4a8-1f43efa6aeb3",
   "metadata": {},
   "source": [
    "#### null_count returns the number of rows with null values in the column."
   ]
  },
  {
   "cell_type": "code",
   "execution_count": 8,
   "id": "3a8d2bbc-7639-4117-b8fe-664e69b3ce25",
   "metadata": {},
   "outputs": [
    {
     "data": {
      "text/html": [
       "<div><style>\n",
       ".dataframe > thead > tr,\n",
       ".dataframe > tbody > tr {\n",
       "  text-align: right;\n",
       "  white-space: pre-wrap;\n",
       "}\n",
       "</style>\n",
       "<small>shape: (1, 9)</small><table border=\"1\" class=\"dataframe\"><thead><tr><th>aircraft_icao_id</th><th>date</th><th>timestamp</th><th>altitude</th><th>latitude</th><th>longitude</th><th>speed</th><th>heading</th><th>Distance_From_Receiver</th></tr><tr><td>u32</td><td>u32</td><td>u32</td><td>u32</td><td>u32</td><td>u32</td><td>u32</td><td>u32</td><td>u32</td></tr></thead><tbody><tr><td>0</td><td>0</td><td>0</td><td>0</td><td>0</td><td>0</td><td>0</td><td>0</td><td>0</td></tr></tbody></table></div>"
      ],
      "text/plain": [
       "shape: (1, 9)\n",
       "┌─────────────────┬──────┬───────────┬──────────┬───┬───────────┬───────┬─────────┬────────────────┐\n",
       "│ aircraft_icao_i ┆ date ┆ timestamp ┆ altitude ┆ … ┆ longitude ┆ speed ┆ heading ┆ Distance_From_ │\n",
       "│ d               ┆ ---  ┆ ---       ┆ ---      ┆   ┆ ---       ┆ ---   ┆ ---     ┆ Receiver       │\n",
       "│ ---             ┆ u32  ┆ u32       ┆ u32      ┆   ┆ u32       ┆ u32   ┆ u32     ┆ ---            │\n",
       "│ u32             ┆      ┆           ┆          ┆   ┆           ┆       ┆         ┆ u32            │\n",
       "╞═════════════════╪══════╪═══════════╪══════════╪═══╪═══════════╪═══════╪═════════╪════════════════╡\n",
       "│ 0               ┆ 0    ┆ 0         ┆ 0        ┆ … ┆ 0         ┆ 0     ┆ 0       ┆ 0              │\n",
       "└─────────────────┴──────┴───────────┴──────────┴───┴───────────┴───────┴─────────┴────────────────┘"
      ]
     },
     "execution_count": 8,
     "metadata": {},
     "output_type": "execute_result"
    }
   ],
   "source": [
    "df.null_count()"
   ]
  },
  {
   "cell_type": "markdown",
   "id": "e05d557c-2121-4b0d-8a9a-bbee6b680a83",
   "metadata": {},
   "source": [
    "#### To get an impression of the data of a DataFrame, we can also use sample. With sample we get an <i>n</i> number of random rows from the DataFrame."
   ]
  },
  {
   "cell_type": "code",
   "execution_count": 9,
   "id": "c1c6de39-0c03-494e-a160-5b880d294a5d",
   "metadata": {},
   "outputs": [
    {
     "data": {
      "text/html": [
       "<div><style>\n",
       ".dataframe > thead > tr,\n",
       ".dataframe > tbody > tr {\n",
       "  text-align: right;\n",
       "  white-space: pre-wrap;\n",
       "}\n",
       "</style>\n",
       "<small>shape: (2, 9)</small><table border=\"1\" class=\"dataframe\"><thead><tr><th>aircraft_icao_id</th><th>date</th><th>timestamp</th><th>altitude</th><th>latitude</th><th>longitude</th><th>speed</th><th>heading</th><th>Distance_From_Receiver</th></tr><tr><td>str</td><td>str</td><td>str</td><td>i64</td><td>f64</td><td>f64</td><td>i64</td><td>i64</td><td>f64</td></tr></thead><tbody><tr><td>&quot;cd2c5c574cbdf9745fed5e1f316d77…</td><td>&quot;2023-10-22&quot;</td><td>&quot;00:24:33.087000&quot;</td><td>7900</td><td>38.47556</td><td>-90.16687</td><td>155</td><td>115</td><td>22.822175</td></tr><tr><td>&quot;d62fb0ff1555418734a6dcd6cfdf80…</td><td>&quot;2023-10-24&quot;</td><td>&quot;21:46:36.109000&quot;</td><td>35050</td><td>38.62165</td><td>-90.1214</td><td>536</td><td>64</td><td>18.832467</td></tr></tbody></table></div>"
      ],
      "text/plain": [
       "shape: (2, 9)\n",
       "┌─────────────┬────────────┬─────────────┬──────────┬───┬───────────┬───────┬─────────┬────────────┐\n",
       "│ aircraft_ic ┆ date       ┆ timestamp   ┆ altitude ┆ … ┆ longitude ┆ speed ┆ heading ┆ Distance_F │\n",
       "│ ao_id       ┆ ---        ┆ ---         ┆ ---      ┆   ┆ ---       ┆ ---   ┆ ---     ┆ rom_Receiv │\n",
       "│ ---         ┆ str        ┆ str         ┆ i64      ┆   ┆ f64       ┆ i64   ┆ i64     ┆ er         │\n",
       "│ str         ┆            ┆             ┆          ┆   ┆           ┆       ┆         ┆ ---        │\n",
       "│             ┆            ┆             ┆          ┆   ┆           ┆       ┆         ┆ f64        │\n",
       "╞═════════════╪════════════╪═════════════╪══════════╪═══╪═══════════╪═══════╪═════════╪════════════╡\n",
       "│ cd2c5c574cb ┆ 2023-10-22 ┆ 00:24:33.08 ┆ 7900     ┆ … ┆ -90.16687 ┆ 155   ┆ 115     ┆ 22.822175  │\n",
       "│ df9745fed5e ┆            ┆ 7000        ┆          ┆   ┆           ┆       ┆         ┆            │\n",
       "│ 1f316d77…   ┆            ┆             ┆          ┆   ┆           ┆       ┆         ┆            │\n",
       "│ d62fb0ff155 ┆ 2023-10-24 ┆ 21:46:36.10 ┆ 35050    ┆ … ┆ -90.1214  ┆ 536   ┆ 64      ┆ 18.832467  │\n",
       "│ 5418734a6dc ┆            ┆ 9000        ┆          ┆   ┆           ┆       ┆         ┆            │\n",
       "│ d6cfdf80…   ┆            ┆             ┆          ┆   ┆           ┆       ┆         ┆            │\n",
       "└─────────────┴────────────┴─────────────┴──────────┴───┴───────────┴───────┴─────────┴────────────┘"
      ]
     },
     "execution_count": 9,
     "metadata": {},
     "output_type": "execute_result"
    }
   ],
   "source": [
    "df.sample(2)"
   ]
  },
  {
   "cell_type": "markdown",
   "id": "3b0e3bec-ebbc-4b10-966c-fc66efa34de6",
   "metadata": {},
   "source": [
    "\n",
    "#### Describe returns summary statistics of the DataFrame. It will provide several quick statistics if possible. In this scenario, we are looking at just three features (speed, altitude, Distance_From_Receiver)"
   ]
  },
  {
   "cell_type": "code",
   "execution_count": 10,
   "id": "1fc581a5-b8a6-4252-bc7a-08308977e00b",
   "metadata": {},
   "outputs": [
    {
     "data": {
      "text/html": [
       "<div><style>\n",
       ".dataframe > thead > tr,\n",
       ".dataframe > tbody > tr {\n",
       "  text-align: right;\n",
       "  white-space: pre-wrap;\n",
       "}\n",
       "</style>\n",
       "<small>shape: (9, 4)</small><table border=\"1\" class=\"dataframe\"><thead><tr><th>statistic</th><th>speed</th><th>altitude</th><th>Distance_From_Receiver</th></tr><tr><td>str</td><td>f64</td><td>f64</td><td>f64</td></tr></thead><tbody><tr><td>&quot;count&quot;</td><td>2e7</td><td>2e7</td><td>2e7</td></tr><tr><td>&quot;null_count&quot;</td><td>0.0</td><td>0.0</td><td>0.0</td></tr><tr><td>&quot;mean&quot;</td><td>403.652263</td><td>27857.490334</td><td>24.77302</td></tr><tr><td>&quot;std&quot;</td><td>113.713833</td><td>12454.841485</td><td>13.823889</td></tr><tr><td>&quot;min&quot;</td><td>53.0</td><td>950.0</td><td>1.079852</td></tr><tr><td>&quot;25%&quot;</td><td>355.0</td><td>16700.0</td><td>14.216306</td></tr><tr><td>&quot;50%&quot;</td><td>408.0</td><td>34000.0</td><td>22.494948</td></tr><tr><td>&quot;75%&quot;</td><td>503.0</td><td>37000.0</td><td>32.356574</td></tr><tr><td>&quot;max&quot;</td><td>597.0</td><td>47000.0</td><td>72.902156</td></tr></tbody></table></div>"
      ],
      "text/plain": [
       "shape: (9, 4)\n",
       "┌────────────┬────────────┬──────────────┬────────────────────────┐\n",
       "│ statistic  ┆ speed      ┆ altitude     ┆ Distance_From_Receiver │\n",
       "│ ---        ┆ ---        ┆ ---          ┆ ---                    │\n",
       "│ str        ┆ f64        ┆ f64          ┆ f64                    │\n",
       "╞════════════╪════════════╪══════════════╪════════════════════════╡\n",
       "│ count      ┆ 2e7        ┆ 2e7          ┆ 2e7                    │\n",
       "│ null_count ┆ 0.0        ┆ 0.0          ┆ 0.0                    │\n",
       "│ mean       ┆ 403.652263 ┆ 27857.490334 ┆ 24.77302               │\n",
       "│ std        ┆ 113.713833 ┆ 12454.841485 ┆ 13.823889              │\n",
       "│ min        ┆ 53.0       ┆ 950.0        ┆ 1.079852               │\n",
       "│ 25%        ┆ 355.0      ┆ 16700.0      ┆ 14.216306              │\n",
       "│ 50%        ┆ 408.0      ┆ 34000.0      ┆ 22.494948              │\n",
       "│ 75%        ┆ 503.0      ┆ 37000.0      ┆ 32.356574              │\n",
       "│ max        ┆ 597.0      ┆ 47000.0      ┆ 72.902156              │\n",
       "└────────────┴────────────┴──────────────┴────────────────────────┘"
      ]
     },
     "execution_count": 10,
     "metadata": {},
     "output_type": "execute_result"
    }
   ],
   "source": [
    "selected_features =df.select(['speed','altitude','Distance_From_Receiver'])\n",
    "description = selected_features.describe()\n",
    "description"
   ]
  },
  {
   "cell_type": "markdown",
   "id": "a2ae2efe-8e7f-4b33-8302-d1ffcaaecdcc",
   "metadata": {},
   "source": [
    "#### Identify the numuber of unique values for a column"
   ]
  },
  {
   "cell_type": "code",
   "execution_count": 11,
   "id": "136c1851-4a57-47a0-bb72-662041e39bbd",
   "metadata": {},
   "outputs": [
    {
     "data": {
      "text/html": [
       "<div><style>\n",
       ".dataframe > thead > tr,\n",
       ".dataframe > tbody > tr {\n",
       "  text-align: right;\n",
       "  white-space: pre-wrap;\n",
       "}\n",
       "</style>\n",
       "<small>shape: (1, 1)</small><table border=\"1\" class=\"dataframe\"><thead><tr><th>aircraft_icao_id</th></tr><tr><td>u32</td></tr></thead><tbody><tr><td>943</td></tr></tbody></table></div>"
      ],
      "text/plain": [
       "shape: (1, 1)\n",
       "┌──────────────────┐\n",
       "│ aircraft_icao_id │\n",
       "│ ---              │\n",
       "│ u32              │\n",
       "╞══════════════════╡\n",
       "│ 943              │\n",
       "└──────────────────┘"
      ]
     },
     "execution_count": 11,
     "metadata": {},
     "output_type": "execute_result"
    }
   ],
   "source": [
    "unique_id_values_count = df.select(pl.col('aircraft_icao_id').unique()).count()\n",
    "#(unique_speed_values/df.shape[0])*100\n",
    "unique_id_values_count"
   ]
  },
  {
   "cell_type": "markdown",
   "id": "151c6e7e-5410-4b77-b7b7-ecf855382533",
   "metadata": {},
   "source": [
    "#### Checking for infinite values. In the context of data analysis, infinite values refer to values that are either infinitely large (+∞) or infinitely small (-∞). These can occur in datasets due to various reasons, such as:\n",
    "\n",
    "- Division by Zero: When a number is divided by zero, it results in an infinite value +∞.\n",
    "- Logarithmic Calculations: Taking the logarithm of zero or a negative number can result in -∞.\n",
    "- Overflow: When calculations exceed the largest representable number in the data type.\n",
    "#### Infinite values can cause unexpected behavior in data analysis and machine learning models. For example, calculations involving division by infinity might lead to errors or nonsensical results.\n",
    "- Unexpected behavior: Infinite values can cause unexpected behavior in data analysis and machine learning models. For example, calculations involving division by infinity might lead to errors or nonsensical results.\n",
    "- Data quality issues: The presence of infinite values can indicate potential issues with data collection, processing, or calculations. It's important to investigate the source of these values to ensure data quality.\n",
    "- Model instability: Machine learning models can be particularly sensitive to infinite values. They might not converge during training or produce unreliable predictions if fed data containing infinities."
   ]
  },
  {
   "cell_type": "code",
   "execution_count": 12,
   "id": "fc188cc2-4165-4852-95e0-ea3e23308df6",
   "metadata": {},
   "outputs": [
    {
     "name": "stdout",
     "output_type": "stream",
     "text": [
      "Does the 'speed' column have infinite values? False\n",
      "There are no rows with infinite values to be returned\n"
     ]
    }
   ],
   "source": [
    "# Check if 'speed' column has any infinite values\n",
    "has_infinite = df.select(pl.col('speed').is_infinite()).to_series().any()\n",
    "\n",
    "print(f\"Does the 'speed' column have infinite values? {has_infinite}\")\n",
    "\n",
    "# Get rows where 'speed' column has infinite values\n",
    "infinite_rows = df.filter(pl.col('speed').is_infinite())\n",
    "\n",
    "if not infinite_rows.is_empty():\n",
    "    print(\"\\nRows with infinite values in 'speed' column:\")\n",
    "    print(infinite_rows)\n",
    "else:\n",
    "    print('There are no rows with infinite values to be returned')"
   ]
  },
  {
   "cell_type": "markdown",
   "id": "4c67b427-84e4-4528-9654-1a38ba5f0369",
   "metadata": {},
   "source": [
    "#### We can use aggregation to sort the result and quickly identify specific speed values that are most or least common in the dataset (top 10 and bottom 10, along with their counts"
   ]
  },
  {
   "cell_type": "code",
   "execution_count": 13,
   "id": "3cd0b678-d1fa-4811-b38b-53388b28401d",
   "metadata": {},
   "outputs": [
    {
     "name": "stdout",
     "output_type": "stream",
     "text": [
      "Top 10 Speed shape: (10, 2)\n",
      "┌───────┬────────┐\n",
      "│ speed ┆ count  │\n",
      "│ ---   ┆ ---    │\n",
      "│ i64   ┆ u32    │\n",
      "╞═══════╪════════╡\n",
      "│ 529   ┆ 193799 │\n",
      "│ 400   ┆ 193798 │\n",
      "│ 398   ┆ 174419 │\n",
      "│ 409   ┆ 174418 │\n",
      "│ 407   ┆ 174418 │\n",
      "│ 558   ┆ 155040 │\n",
      "│ 404   ┆ 155040 │\n",
      "│ 423   ┆ 155039 │\n",
      "│ 549   ┆ 155039 │\n",
      "│ 511   ┆ 155039 │\n",
      "└───────┴────────┘ \n",
      " Bottom 10 Speed shape: (10, 2)\n",
      "┌───────┬───────┐\n",
      "│ speed ┆ count │\n",
      "│ ---   ┆ ---   │\n",
      "│ i64   ┆ u32   │\n",
      "╞═══════╪═══════╡\n",
      "│ 143   ┆ 19379 │\n",
      "│ 182   ┆ 19379 │\n",
      "│ 191   ┆ 19379 │\n",
      "│ 474   ┆ 19379 │\n",
      "│ 483   ┆ 19379 │\n",
      "│ 465   ┆ 19379 │\n",
      "│ 242   ┆ 19379 │\n",
      "│ 245   ┆ 19379 │\n",
      "│ 516   ┆ 19379 │\n",
      "│ 454   ┆ 19379 │\n",
      "└───────┴───────┘\n"
     ]
    }
   ],
   "source": [
    "top_10_speed = (\n",
    "    df.group_by(\"speed\")\n",
    "    .agg(pl.col(\"speed\").count().alias(\"count\"))\n",
    "    .sort(\"count\", descending=True)\n",
    "    .limit(10)\n",
    ")\n",
    "\n",
    "bottom_10_speed = (\n",
    "    df.group_by(\"speed\")\n",
    "    .agg(pl.col(\"speed\").count().alias(\"count\"))\n",
    "    .sort(\"count\", descending=False)\n",
    "    .limit(10)\n",
    ")\n",
    "# grouped_df.select(pl.col(\"count\").unique())\n",
    "\n",
    "print(\"Top 10 Speed\", top_10_speed, \"\\n\", \"Bottom 10 Speed\", bottom_10_speed)"
   ]
  },
  {
   "cell_type": "markdown",
   "id": "8c8d021e-bdde-4f3e-9019-2b568266018f",
   "metadata": {},
   "source": [
    "#### Using a histogram for understanding the overall distribution and frequency of speeds across the entire dataset, which can help in identifying patterns and outliers."
   ]
  },
  {
   "cell_type": "code",
   "execution_count": 14,
   "id": "6acd3a7d-4e7e-4f86-8012-12dc985ac616",
   "metadata": {},
   "outputs": [
    {
     "name": "stderr",
     "output_type": "stream",
     "text": [
      "/opt/anaconda3/lib/python3.10/site-packages/seaborn/_oldcore.py:1119: FutureWarning: use_inf_as_na option is deprecated and will be removed in a future version. Convert inf values to NaN before operating instead.\n",
      "  with pd.option_context('mode.use_inf_as_na', True):\n"
     ]
    },
    {
     "data": {
      "image/png": "[encoded data removed]",
      "text/plain": [
       "<Figure size 640x480 with 1 Axes>"
      ]
     },
     "metadata": {},
     "output_type": "display_data"
    }
   ],
   "source": [
    "speed_series = df.select(pl.col('speed'))\n",
    "sns.histplot(speed_series['speed'], bins=30, kde=True)\n",
    "plt.title('Distribution of Speed')\n",
    "plt.xlabel('Speed')\n",
    "plt.ylabel('Frequency')\n",
    "plt.show()"
   ]
  },
  {
   "cell_type": "markdown",
   "id": "ff218c7a-46bf-48d9-b070-af2db7d27011",
   "metadata": {},
   "source": [
    "#### We can also display the distribution of data with a boxplot (or box-and-whisker plot) based on a five-number summary: minimum, first quartile (Q1), median, third quartile (Q3), and maximum. It also identifies potential outliers."
   ]
  },
  {
   "cell_type": "code",
   "execution_count": 15,
   "id": "344d17f4-bf5b-4890-84a2-5ed0b1e22a16",
   "metadata": {},
   "outputs": [
    {
     "data": {
      "image/png": "[encoded data removed]",
      "text/plain": [
       "<Figure size 640x480 with 1 Axes>"
      ]
     },
     "metadata": {},
     "output_type": "display_data"
    }
   ],
   "source": [
    "speed_df = df.select(pl.col('speed')).to_numpy()\n",
    "sns.boxplot(y=speed_df)\n",
    "plt.title('Boxplot of Speed')\n",
    "plt.xlabel('Speed')\n",
    "plt.show()"
   ]
  },
  {
   "cell_type": "markdown",
   "id": "6c3f5b3c-b428-4360-89e7-337dffea8b52",
   "metadata": {},
   "source": [
    "#### We can leverage the IQR (Inter Quartile Range) approach to identify possible outliers."
   ]
  },
  {
   "cell_type": "code",
   "execution_count": 16,
   "id": "bf0716ff-8132-4404-8039-cd5ba3c88ac1",
   "metadata": {},
   "outputs": [
    {
     "name": "stdout",
     "output_type": "stream",
     "text": [
      "Outliers:\n"
     ]
    },
    {
     "data": {
      "text/plain": [
       "{53,\n",
       " 68,\n",
       " 79,\n",
       " 81,\n",
       " 84,\n",
       " 92,\n",
       " 94,\n",
       " 95,\n",
       " 96,\n",
       " 98,\n",
       " 103,\n",
       " 104,\n",
       " 110,\n",
       " 113,\n",
       " 117,\n",
       " 119,\n",
       " 121,\n",
       " 122,\n",
       " 123,\n",
       " 124,\n",
       " 125,\n",
       " 127,\n",
       " 129,\n",
       " 130}"
      ]
     },
     "execution_count": 16,
     "metadata": {},
     "output_type": "execute_result"
    }
   ],
   "source": [
    "\n",
    "q1 = df.select(pl.col('speed').quantile(0.25)).to_numpy()[0][0]\n",
    "q3 = df.select(pl.col('speed').quantile(0.75)).to_numpy()[0][0]\n",
    "\n",
    "# Compute IQR\n",
    "iqr = q3 - q1\n",
    "\n",
    "# Define outlier boundaries\n",
    "lower_bound = q1 - 1.5 * iqr\n",
    "upper_bound = q3 + 1.5 * iqr\n",
    "\n",
    "outliers = df.filter((pl.col('speed') < lower_bound) | (pl.col('speed') > upper_bound))\n",
    "\n",
    "print(\"Outliers:\")\n",
    "#print(outliers.shape[0]/df.shape[0])\n",
    "set(outliers['speed'])"
   ]
  },
  {
   "cell_type": "markdown",
   "id": "75fd51c3-b18d-4f7e-b777-a0766de266e4",
   "metadata": {},
   "source": [
    "#### We can calculate the correlation between columns using the .corr method. This method can be used to find the Pearson correlation coefficient between two columns. The Pearson correlation coefficient measures the linear correlation between two variables, ranging from -1 to 1.\n"
   ]
  },
  {
   "cell_type": "code",
   "execution_count": 17,
   "id": "59d784ee-f4f0-4448-965a-7a7911917acd",
   "metadata": {},
   "outputs": [
    {
     "name": "stdout",
     "output_type": "stream",
     "text": [
      "Correlation between 'speed' and 'altitude': shape: (1, 1)\n",
      "┌──────────┐\n",
      "│ altitude │\n",
      "│ ---      │\n",
      "│ f64      │\n",
      "╞══════════╡\n",
      "│ 0.773222 │\n",
      "└──────────┘\n"
     ]
    }
   ],
   "source": [
    "column1 = \"speed\"  \n",
    "column2 = \"altitude\"  \n",
    "# Calculate the Pearson correlation coefficient\n",
    "correlation = df.select(pl.corr(\"altitude\", \"speed\"))\n",
    "\n",
    "# Optional: Specify correlation method (default is Pearson) and handle missing values\n",
    "# correlation = df.select(pl.corr(\"altitude\", \"speed\",method=\"spearman\",propagate_nans=False))\n",
    "print(f\"Correlation between '{column1}' and '{column2}': {correlation}\")\n"
   ]
  },
  {
   "cell_type": "markdown",
   "id": "d9eca559-048c-4027-b0cc-1d2f11cf914b",
   "metadata": {},
   "source": [
    "#### We can visualize this positive correlation with a scatter plot."
   ]
  },
  {
   "cell_type": "code",
   "execution_count": 18,
   "id": "39e0cd25-8b58-4eb1-8199-1c2b95e5963d",
   "metadata": {},
   "outputs": [
    {
     "data": {
      "image/png": "[encoded data removed]",
      "text/plain": [
       "<Figure size 640x480 with 1 Axes>"
      ]
     },
     "metadata": {},
     "output_type": "display_data"
    }
   ],
   "source": [
    "speed = df.select(pl.col(column1)).to_numpy().flatten()\n",
    "altitude = df.select(pl.col(column2)).to_numpy().flatten()\n",
    "\n",
    "\n",
    "sns.scatterplot(x=speed, y=altitude)\n",
    "plt.title('Scatter Plot of Speed vs Altitude')\n",
    "plt.xlabel('Speed')\n",
    "plt.ylabel('Altitude')\n",
    "plt.show()"
   ]
  },
  {
   "cell_type": "markdown",
   "id": "9f3bdfb9-d83c-4c91-9a6b-74eb31de3aa0",
   "metadata": {},
   "source": [
    "### Data Transformations "
   ]
  },
  {
   "cell_type": "code",
   "execution_count": 19,
   "id": "612f9021-444c-4a62-ba0b-49cba7231004",
   "metadata": {},
   "outputs": [
    {
     "data": {
      "text/plain": [
       "[String, Date, Time, Int64, Float64, Float64, Int64, Int64, Float64]"
      ]
     },
     "execution_count": 19,
     "metadata": {},
     "output_type": "execute_result"
    }
   ],
   "source": [
    "# Transform the string to a date\n",
    "df = df.with_columns([\n",
    "    pl.col(\"date\").str.strptime(pl.Date, \"%Y-%m-%d\").alias(\"date\"),\n",
    "    pl.col(\"timestamp\").str.strptime(pl.Time, \"%H:%M:%S%.f\").alias(\"timestamp\")\n",
    "])\n",
    "df.dtypes"
   ]
  },
  {
   "cell_type": "code",
   "execution_count": 20,
   "id": "c94c4fd7-857d-451f-aa39-4fd5e70327fa",
   "metadata": {},
   "outputs": [
    {
     "data": {
      "text/html": [
       "<div><style>\n",
       ".dataframe > thead > tr,\n",
       ".dataframe > tbody > tr {\n",
       "  text-align: right;\n",
       "  white-space: pre-wrap;\n",
       "}\n",
       "</style>\n",
       "<small>shape: (5, 9)</small><table border=\"1\" class=\"dataframe\"><thead><tr><th>aircraft_icao_id</th><th>date</th><th>timestamp</th><th>altitude</th><th>latitude</th><th>longitude</th><th>speed</th><th>heading</th><th>Distance_From_Receiver</th></tr><tr><td>str</td><td>date</td><td>time</td><td>i64</td><td>f64</td><td>f64</td><td>i64</td><td>i64</td><td>f64</td></tr></thead><tbody><tr><td>&quot;6c7c86ede5f20a4c5cd97a56f79dd3…</td><td>2023-10-26</td><td>21:04:33.231</td><td>35000</td><td>38.61955</td><td>-90.12807</td><td>510</td><td>131</td><td>19.271622</td></tr><tr><td>&quot;56a7584bd0fd2151076be804881330…</td><td>2023-10-21</td><td>21:02:42.143</td><td>40000</td><td>38.84384</td><td>-90.11713</td><td>487</td><td>202</td><td>36.495388</td></tr><tr><td>&quot;7920794164eb77440b937e73484836…</td><td>2023-10-22</td><td>02:21:15.327</td><td>37975</td><td>38.55801</td><td>-89.70074</td><td>415</td><td>206</td><td>19.393315</td></tr><tr><td>&quot;5d9bd15d50428b6445669dbd2b3fe6…</td><td>2023-10-21</td><td>20:58:38.905</td><td>37950</td><td>38.66107</td><td>-90.23029</td><td>432</td><td>214</td><td>29.25538</td></tr><tr><td>&quot;9825b10d1446628b83d4a4c415c24d…</td><td>2023-10-22</td><td>14:04:58.095</td><td>36025</td><td>38.72662</td><td>-89.9468</td><td>435</td><td>210</td><td>19.473439</td></tr></tbody></table></div>"
      ],
      "text/plain": [
       "shape: (5, 9)\n",
       "┌─────────────┬────────────┬─────────────┬──────────┬───┬───────────┬───────┬─────────┬────────────┐\n",
       "│ aircraft_ic ┆ date       ┆ timestamp   ┆ altitude ┆ … ┆ longitude ┆ speed ┆ heading ┆ Distance_F │\n",
       "│ ao_id       ┆ ---        ┆ ---         ┆ ---      ┆   ┆ ---       ┆ ---   ┆ ---     ┆ rom_Receiv │\n",
       "│ ---         ┆ date       ┆ time        ┆ i64      ┆   ┆ f64       ┆ i64   ┆ i64     ┆ er         │\n",
       "│ str         ┆            ┆             ┆          ┆   ┆           ┆       ┆         ┆ ---        │\n",
       "│             ┆            ┆             ┆          ┆   ┆           ┆       ┆         ┆ f64        │\n",
       "╞═════════════╪════════════╪═════════════╪══════════╪═══╪═══════════╪═══════╪═════════╪════════════╡\n",
       "│ 6c7c86ede5f ┆ 2023-10-26 ┆ 21:04:33.23 ┆ 35000    ┆ … ┆ -90.12807 ┆ 510   ┆ 131     ┆ 19.271622  │\n",
       "│ 20a4c5cd97a ┆            ┆ 1           ┆          ┆   ┆           ┆       ┆         ┆            │\n",
       "│ 56f79dd3…   ┆            ┆             ┆          ┆   ┆           ┆       ┆         ┆            │\n",
       "│ 56a7584bd0f ┆ 2023-10-21 ┆ 21:02:42.14 ┆ 40000    ┆ … ┆ -90.11713 ┆ 487   ┆ 202     ┆ 36.495388  │\n",
       "│ d2151076be8 ┆            ┆ 3           ┆          ┆   ┆           ┆       ┆         ┆            │\n",
       "│ 04881330…   ┆            ┆             ┆          ┆   ┆           ┆       ┆         ┆            │\n",
       "│ 7920794164e ┆ 2023-10-22 ┆ 02:21:15.32 ┆ 37975    ┆ … ┆ -89.70074 ┆ 415   ┆ 206     ┆ 19.393315  │\n",
       "│ b77440b937e ┆            ┆ 7           ┆          ┆   ┆           ┆       ┆         ┆            │\n",
       "│ 73484836…   ┆            ┆             ┆          ┆   ┆           ┆       ┆         ┆            │\n",
       "│ 5d9bd15d504 ┆ 2023-10-21 ┆ 20:58:38.90 ┆ 37950    ┆ … ┆ -90.23029 ┆ 432   ┆ 214     ┆ 29.25538   │\n",
       "│ 28b6445669d ┆            ┆ 5           ┆          ┆   ┆           ┆       ┆         ┆            │\n",
       "│ bd2b3fe6…   ┆            ┆             ┆          ┆   ┆           ┆       ┆         ┆            │\n",
       "│ 9825b10d144 ┆ 2023-10-22 ┆ 14:04:58.09 ┆ 36025    ┆ … ┆ -89.9468  ┆ 435   ┆ 210     ┆ 19.473439  │\n",
       "│ 6628b83d4a4 ┆            ┆ 5           ┆          ┆   ┆           ┆       ┆         ┆            │\n",
       "│ c415c24d…   ┆            ┆             ┆          ┆   ┆           ┆       ┆         ┆            │\n",
       "└─────────────┴────────────┴─────────────┴──────────┴───┴───────────┴───────┴─────────┴────────────┘"
      ]
     },
     "execution_count": 20,
     "metadata": {},
     "output_type": "execute_result"
    }
   ],
   "source": [
    "df.head()"
   ]
  },
  {
   "cell_type": "markdown",
   "id": "c88d4b3d-a20a-48b4-8206-54df64e30aa2",
   "metadata": {},
   "source": [
    "#### Additional functions can be found in the documentation at https://docs.pola.rs/api/python/stable/reference/expressions/functions.html"
   ]
  },
  {
   "cell_type": "markdown",
   "id": "773e5eda-eb56-401c-97f9-7cb28fbc69d2",
   "metadata": {},
   "source": [
    "### The SQLContext in Polars offers a SQL interface for querying DataFrame data. This functionality is accessible via the SQLContext object, as well as through the sql() methods available on both DataFrame and LazyFrame objects, which internally utilize SQLContext.\n",
    "\n",
    "\n",
    "\n",
    "\n",
    "\n",
    "\n"
   ]
  },
  {
   "cell_type": "code",
   "execution_count": 21,
   "id": "cba111d7-b3f0-4a0a-b5ec-2507d7108717",
   "metadata": {},
   "outputs": [
    {
     "name": "stdout",
     "output_type": "stream",
     "text": [
      "shape: (2_771_323, 9)\n",
      "┌─────────────┬────────────┬─────────────┬──────────┬───┬───────────┬───────┬─────────┬────────────┐\n",
      "│ aircraft_ic ┆ date       ┆ timestamp   ┆ altitude ┆ … ┆ longitude ┆ speed ┆ heading ┆ Distance_F │\n",
      "│ ao_id       ┆ ---        ┆ ---         ┆ ---      ┆   ┆ ---       ┆ ---   ┆ ---     ┆ rom_Receiv │\n",
      "│ ---         ┆ date       ┆ time        ┆ i64      ┆   ┆ f64       ┆ i64   ┆ i64     ┆ er         │\n",
      "│ str         ┆            ┆             ┆          ┆   ┆           ┆       ┆         ┆ ---        │\n",
      "│             ┆            ┆             ┆          ┆   ┆           ┆       ┆         ┆ f64        │\n",
      "╞═════════════╪════════════╪═════════════╪══════════╪═══╪═══════════╪═══════╪═════════╪════════════╡\n",
      "│ 7920794164e ┆ 2023-10-22 ┆ 02:21:15.32 ┆ 37975    ┆ … ┆ -89.70074 ┆ 415   ┆ 206     ┆ 19.393315  │\n",
      "│ b77440b937e ┆            ┆ 7           ┆          ┆   ┆           ┆       ┆         ┆            │\n",
      "│ 73484836…   ┆            ┆             ┆          ┆   ┆           ┆       ┆         ┆            │\n",
      "│ 9825b10d144 ┆ 2023-10-22 ┆ 14:04:58.09 ┆ 36025    ┆ … ┆ -89.9468  ┆ 435   ┆ 210     ┆ 19.473439  │\n",
      "│ 6628b83d4a4 ┆            ┆ 5           ┆          ┆   ┆           ┆       ┆         ┆            │\n",
      "│ c415c24d…   ┆            ┆             ┆          ┆   ┆           ┆       ┆         ┆            │\n",
      "│ c96b7674c1a ┆ 2023-10-22 ┆ 03:58:52.34 ┆ 36000    ┆ … ┆ -89.56628 ┆ 438   ┆ 209     ┆ 32.4199    │\n",
      "│ 88873412ad8 ┆            ┆ 8           ┆          ┆   ┆           ┆       ┆         ┆            │\n",
      "│ e164c0d8…   ┆            ┆             ┆          ┆   ┆           ┆       ┆         ┆            │\n",
      "│ ddf4417c089 ┆ 2023-10-22 ┆ 00:59:24.66 ┆ 38000    ┆ … ┆ -89.44461 ┆ 435   ┆ 213     ┆ 53.010591  │\n",
      "│ e6b97ddee70 ┆            ┆ 2           ┆          ┆   ┆           ┆       ┆         ┆            │\n",
      "│ 90827e70…   ┆            ┆             ┆          ┆   ┆           ┆       ┆         ┆            │\n",
      "│ 81fdd3e7050 ┆ 2023-10-22 ┆ 00:48:01.59 ┆ 34000    ┆ … ┆ -89.6723  ┆ 469   ┆ 209     ┆ 22.931282  │\n",
      "│ 2bc6b3ac330 ┆            ┆ 7           ┆          ┆   ┆           ┆       ┆         ┆            │\n",
      "│ 80a93378…   ┆            ┆             ┆          ┆   ┆           ┆       ┆         ┆            │\n",
      "│ …           ┆ …          ┆ …           ┆ …        ┆ … ┆ …         ┆ …     ┆ …       ┆ …          │\n",
      "│ e4066067418 ┆ 2023-10-22 ┆ 17:51:20.07 ┆ 7250     ┆ … ┆ -90.13166 ┆ 294   ┆ 130     ┆ 19.154978  │\n",
      "│ d5443d51134 ┆            ┆ 6           ┆          ┆   ┆           ┆       ┆         ┆            │\n",
      "│ 6698bc68…   ┆            ┆             ┆          ┆   ┆           ┆       ┆         ┆            │\n",
      "│ e624e968fbe ┆ 2023-10-22 ┆ 00:49:26.76 ┆ 40000    ┆ … ┆ -89.5627  ┆ 404   ┆ 329     ┆ 32.289082  │\n",
      "│ 1ee96a31bae ┆            ┆ 9           ┆          ┆   ┆           ┆       ┆         ┆            │\n",
      "│ b1d408c5…   ┆            ┆             ┆          ┆   ┆           ┆       ┆         ┆            │\n",
      "│ 7ebd563be41 ┆ 2023-10-22 ┆ 01:07:47.81 ┆ 30000    ┆ … ┆ -89.54705 ┆ 407   ┆ 312     ┆ 49.505463  │\n",
      "│ 0977612530b ┆            ┆ 4           ┆          ┆   ┆           ┆       ┆         ┆            │\n",
      "│ e4a8dec8…   ┆            ┆             ┆          ┆   ┆           ┆       ┆         ┆            │\n",
      "│ 9fe599be7e6 ┆ 2023-10-22 ┆ 14:07:27.28 ┆ 29975    ┆ … ┆ -89.52893 ┆ 405   ┆ 311     ┆ 51.660528  │\n",
      "│ 15cdd4b7651 ┆            ┆ 5           ┆          ┆   ┆           ┆       ┆         ┆            │\n",
      "│ 19bc7703…   ┆            ┆             ┆          ┆   ┆           ┆       ┆         ┆            │\n",
      "│ 04a50afc8f6 ┆ 2023-10-22 ┆ 02:32:03.25 ┆ 18375    ┆ … ┆ -90.0652  ┆ 334   ┆ 336     ┆ 49.458034  │\n",
      "│ 424f2892b11 ┆            ┆ 8           ┆          ┆   ┆           ┆       ┆         ┆            │\n",
      "│ 7d121580…   ┆            ┆             ┆          ┆   ┆           ┆       ┆         ┆            │\n",
      "└─────────────┴────────────┴─────────────┴──────────┴───┴───────────┴───────┴─────────┴────────────┘\n"
     ]
    }
   ],
   "source": [
    "ctx = pl.SQLContext()\n",
    "\n",
    "ctx.register(\"my_table\", df)\n",
    "\n",
    "result = ctx.execute(\n",
    "    \"\"\"\n",
    "    WITH aircrafts AS (\n",
    "        SELECT * FROM my_table \n",
    "        WHERE date = '2023-10-22'\n",
    "    )\n",
    "    SELECT * FROM aircrafts\n",
    "\"\"\",\n",
    "    eager=True,\n",
    ")\n",
    "\n",
    "print(result)"
   ]
  },
  {
   "cell_type": "markdown",
   "id": "38f96f43-72a4-4ddb-b5db-05342c18af08",
   "metadata": {},
   "source": [
    "### More information can be found at https://docs.pola.rs/api/python/stable/reference/sql/index.html"
   ]
  },
  {
   "cell_type": "code",
   "execution_count": null,
   "id": "212be2e5-6658-4b42-b999-3a3b8f0be5b6",
   "metadata": {},
   "outputs": [],
   "source": []
  }
 ],
 "metadata": {
  "kernelspec": {
   "display_name": "Python 3 (ipykernel)",
   "language": "python",
   "name": "python3"
  },
  "language_info": {
   "codemirror_mode": {
    "name": "ipython",
    "version": 3
   },
   "file_extension": ".py",
   "mimetype": "text/x-python",
   "name": "python",
   "nbconvert_exporter": "python",
   "pygments_lexer": "ipython3",
   "version": "3.10.14"
  }
 },
 "nbformat": 4,
 "nbformat_minor": 5
}
